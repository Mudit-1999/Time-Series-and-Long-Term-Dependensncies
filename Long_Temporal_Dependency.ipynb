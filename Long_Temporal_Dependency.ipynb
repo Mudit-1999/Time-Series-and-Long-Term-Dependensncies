{
  "nbformat": 4,
  "nbformat_minor": 0,
  "metadata": {
    "colab": {
      "name": "Long Temporal Dependency",
      "provenance": [],
      "collapsed_sections": []
    },
    "kernelspec": {
      "name": "python3",
      "display_name": "Python 3"
    }
  },
  "cells": [
    {
      "cell_type": "code",
      "metadata": {
        "id": "hYvmweDfGtjP",
        "colab_type": "code",
        "colab": {}
      },
      "source": [
        "import numpy as np \n",
        "import random\n",
        "import torch\n",
        "import torch.nn as nn\n",
        "import torch.nn.functional as F\n",
        "import torchvision\n",
        "import torchvision.transforms as transforms\n",
        "from torch.autograd import Variable\n",
        "from torchsummary import summary\n",
        "import matplotlib.pyplot as plt"
      ],
      "execution_count": 0,
      "outputs": []
    },
    {
      "cell_type": "markdown",
      "metadata": {
        "id": "7oDdGkH9CMUA",
        "colab_type": "text"
      },
      "source": [
        "## Sequence Generation and one hot conversion\n",
        "\n"
      ]
    },
    {
      "cell_type": "code",
      "metadata": {
        "id": "A-4rqI-GQzeM",
        "colab_type": "code",
        "colab": {}
      },
      "source": [
        "def one_hot(target):\n",
        "  return np.eye(101)[target]"
      ],
      "execution_count": 0,
      "outputs": []
    },
    {
      "cell_type": "code",
      "metadata": {
        "id": "-qU-nWpVQzg5",
        "colab_type": "code",
        "colab": {}
      },
      "source": [
        "X=[99]\n",
        "hot_X=one_hot(X)"
      ],
      "execution_count": 0,
      "outputs": []
    },
    {
      "cell_type": "code",
      "metadata": {
        "id": "PRVzq7BJQzk2",
        "colab_type": "code",
        "colab": {}
      },
      "source": [
        "Y=[100]\n",
        "hot_Y=one_hot(Y)"
      ],
      "execution_count": 0,
      "outputs": []
    },
    {
      "cell_type": "code",
      "metadata": {
        "id": "8yfNi6fnRZ_L",
        "colab_type": "code",
        "colab": {}
      },
      "source": [
        "def gen_seq():\n",
        "  ch=random.randint(0,1)\n",
        "  A=[]\n",
        "  temp=0\n",
        "  for i in range(99):\n",
        "    temp=random.randint(temp,98)\n",
        "    A.append(temp)\n",
        "  hot_A=one_hot(A)\n",
        "  if ch==0:\n",
        "    return (X+A+X,np.concatenate((hot_X,hot_A,hot_X), axis=0),hot_X,99) \n",
        "  return (Y+A+Y,np.concatenate((hot_Y,hot_A,hot_Y), axis=0),hot_Y,100)"
      ],
      "execution_count": 0,
      "outputs": []
    },
    {
      "cell_type": "markdown",
      "metadata": {
        "id": "9OIR86OKCGYi",
        "colab_type": "text"
      },
      "source": [
        "## Generating 3000 test sequences"
      ]
    },
    {
      "cell_type": "code",
      "metadata": {
        "id": "1hLAkxDWbsbc",
        "colab_type": "code",
        "colab": {}
      },
      "source": [
        "def gen_data(test=3000):\n",
        "  data_x=[]\n",
        "  data_y=[]\n",
        "  for i in range(test):\n",
        "    data=gen_seq()\n",
        "    data_x.append(data[1])\n",
        "    data_y.append(data[3])\n",
        "  data_x=torch.tensor(np.array(data_x)).float()\n",
        "  data_y=np.array(data_y)\n",
        "  return data_x,data_y\n",
        "\n",
        "test_x,test_y=gen_data(3000)\n"
      ],
      "execution_count": 0,
      "outputs": []
    },
    {
      "cell_type": "code",
      "metadata": {
        "id": "JtAVtjLXvPJl",
        "colab_type": "code",
        "colab": {}
      },
      "source": [
        "batch_size=256"
      ],
      "execution_count": 0,
      "outputs": []
    },
    {
      "cell_type": "markdown",
      "metadata": {
        "id": "j6gGkTw5B7rp",
        "colab_type": "text"
      },
      "source": [
        "# LSTM\n",
        "The network contains a 3 Lstm layers of hidden size 101 and a dense layer with softmax activation.\n",
        "Learning rate chosen is  $1*10^{-3}$  and RMSprop is chosen as the optimizer. The model is trained for 500 epochs and tested on 3000 samples. The loss and accuracy is averaged over 10 iteration."
      ]
    },
    {
      "cell_type": "code",
      "metadata": {
        "id": "Z6o6j7268_8G",
        "colab_type": "code",
        "colab": {}
      },
      "source": [
        "miss_prediction=0"
      ],
      "execution_count": 0,
      "outputs": []
    },
    {
      "cell_type": "code",
      "metadata": {
        "id": "QGPyylJSSUX0",
        "colab_type": "code",
        "colab": {}
      },
      "source": [
        "class LSTM_Net(nn.Module):\n",
        "  def __init__(self):\n",
        "    super().__init__()\n",
        "    self.lstm1 = nn.LSTM(input_size=101,hidden_size=101,num_layers=3,batch_first=True)\n",
        "    self.d1 = nn.Linear(101,101)\n",
        "    self.a1 = nn.Softmax(dim=1)\n",
        "    \n",
        "  def forward(self, x):\n",
        "    x,_ = self.lstm1(x)\n",
        "    # print(x.shape,x[-1].shape)\n",
        "    x=self.d1(x[:,-1])\n",
        "    # print(x.shape)\n",
        "    # print(x.shape)\n",
        "    x=self.a1(x)\n",
        "    return x"
      ],
      "execution_count": 0,
      "outputs": []
    },
    {
      "cell_type": "code",
      "metadata": {
        "id": "kga-WN4XZC0y",
        "colab_type": "code",
        "outputId": "4e2a6121-57eb-4d80-bc4e-f3a015f1a277",
        "colab": {
          "base_uri": "https://localhost:8080/",
          "height": 102
        }
      },
      "source": [
        "mse = nn.MSELoss(reduction=\"sum\")\n",
        "cce=nn.CrossEntropyLoss()\n",
        "\n",
        "model = LSTM_Net()\n",
        "print(model)"
      ],
      "execution_count": 0,
      "outputs": [
        {
          "output_type": "stream",
          "text": [
            "LSTM_Net(\n",
            "  (lstm1): LSTM(101, 101, num_layers=3, batch_first=True)\n",
            "  (d1): Linear(in_features=101, out_features=101, bias=True)\n",
            "  (a1): Softmax(dim=1)\n",
            ")\n"
          ],
          "name": "stdout"
        }
      ]
    },
    {
      "cell_type": "code",
      "metadata": {
        "id": "q2XMTDnfbSvi",
        "colab_type": "code",
        "outputId": "75a6c88b-9cb0-4c6d-c09d-053fadf42475",
        "colab": {
          "base_uri": "https://localhost:8080/",
          "height": 697
        }
      },
      "source": [
        "epochs = 100\n",
        "loss_hist=np.zeros((10,epochs))\n",
        "for trial in range(10):\n",
        "  print(\"Trial :\",trial)\n",
        "  model = LSTM_Net()\n",
        "  optimizer = torch.optim.RMSprop(model.parameters(), lr=1e-3)\n",
        "  \n",
        "  model.train()\n",
        "  for i in range(epochs):\n",
        "    # data_set=gen_seq()\n",
        "    # seq =data_set[1]\n",
        "    seq,label=gen_data(batch_size)\n",
        "    label=torch.tensor(one_hot(label)).float().reshape(-1,101)\n",
        "    optimizer.zero_grad()\n",
        "    # seq= torch.from_numpy(seq).float().reshape(-1,101,101)\n",
        "    y_pred = model(seq)\n",
        "    a=y_pred.detach().numpy().reshape(1,-1)[0].reshape(-1,1)\n",
        "    ind=np.argmax(a)\n",
        "    # print(a[99],a[100],data_set[3],ind)\n",
        "    loss = mse(y_pred,label)\n",
        "    loss.backward()\n",
        "    optimizer.step()\n",
        "y_pred1=lstm_model(test_x)\n",
        "loss = cce(y_pred,target)\n",
        "\n",
        "    loss_hist[trial,i]=loss.item()\n",
        "    if i%100==0:\n",
        "      print(f'epoch: {i:3} loss: {loss.item():10.8f}')\n",
        "  print(f'epoch: {i:3} loss: {loss.item():10.8f}')\n",
        "  \n",
        "  model.eval()\n",
        "  y_pred1= model(test_x).detach().numpy()\n",
        "  ind=np.argmax(y_pred1,axis=1)\n",
        "  arr = ind-test_y\n",
        "  a=np.where(arr != 0)\n",
        "  miss_prediction+=a[0].shape[0]\n",
        "  print(miss_prediction)"
      ],
      "execution_count": 0,
      "outputs": [
        {
          "output_type": "stream",
          "text": [
            "Trial : 0\n",
            "epoch:   0 loss: 253.27818298\n",
            "epoch:  99 loss: 0.16270104\n",
            "0\n",
            "Trial : 1\n",
            "epoch:   0 loss: 253.33401489\n",
            "epoch:  99 loss: 0.24887553\n",
            "0\n",
            "Trial : 2\n",
            "epoch:   0 loss: 253.62649536\n",
            "epoch:  99 loss: 0.22061351\n",
            "0\n",
            "Trial : 3\n",
            "epoch:   0 loss: 253.28668213\n",
            "epoch:  99 loss: 0.18875137\n",
            "0\n",
            "Trial : 4\n",
            "epoch:   0 loss: 253.57086182\n",
            "epoch:  99 loss: 0.53808856\n",
            "0\n",
            "Trial : 5\n",
            "epoch:   0 loss: 254.09884644\n",
            "epoch:  99 loss: 0.25431916\n",
            "0\n",
            "Trial : 6\n",
            "epoch:   0 loss: 253.45132446\n",
            "epoch:  99 loss: 0.17913353\n",
            "0\n",
            "Trial : 7\n",
            "epoch:   0 loss: 253.72259521\n",
            "epoch:  99 loss: 0.30295712\n",
            "0\n",
            "Trial : 8\n",
            "epoch:   0 loss: 253.43991089\n",
            "epoch:  99 loss: 0.21288320\n",
            "0\n",
            "Trial : 9\n",
            "epoch:   0 loss: 253.27705383\n",
            "epoch:  99 loss: 0.17279305\n",
            "0\n"
          ],
          "name": "stdout"
        }
      ]
    },
    {
      "cell_type": "markdown",
      "metadata": {
        "id": "X9UB6rxd_S-A",
        "colab_type": "text"
      },
      "source": [
        "## Plot of number of sequences versus error curve.\n",
        "\n"
      ]
    },
    {
      "cell_type": "code",
      "metadata": {
        "id": "QaT_gWZEmSvI",
        "colab_type": "code",
        "outputId": "5e744db1-2188-41f4-9cf0-32fc11ad0e69",
        "colab": {
          "base_uri": "https://localhost:8080/",
          "height": 295
        }
      },
      "source": [
        "final_loss_hist=np.average(loss_hist,axis=0)\n",
        "plt.plot(np.arange(0,batch_size*epochs,batch_size),final_loss_hist, label='loss')\n",
        "plt.title('Training_curve')\n",
        "plt.xlabel(\"Number of Sequence\")\n",
        "plt.ylabel(\"Loss\")\n",
        "plt.legend()\n",
        "plt.show()"
      ],
      "execution_count": 0,
      "outputs": [
        {
          "output_type": "display_data",
          "data": {
            "image/png": "[encoded data removed]",
            "text/plain": [
              "<Figure size 432x288 with 1 Axes>"
            ]
          },
          "metadata": {
            "tags": [],
            "needs_background": "light"
          }
        }
      ]
    },
    {
      "cell_type": "markdown",
      "metadata": {
        "id": "BBz-sw6w_a9n",
        "colab_type": "text"
      },
      "source": [
        "## Average number of wrong predictions on the test set in 10 different trials"
      ]
    },
    {
      "cell_type": "code",
      "metadata": {
        "id": "GUnVqswAmfig",
        "colab_type": "code",
        "outputId": "ca6abe92-0351-46c3-e875-457043714014",
        "colab": {
          "base_uri": "https://localhost:8080/",
          "height": 34
        }
      },
      "source": [
        "print(\"Average wrong prediction\",miss_prediction/10)"
      ],
      "execution_count": 0,
      "outputs": [
        {
          "output_type": "stream",
          "text": [
            "Average wrong prediction 0.0\n"
          ],
          "name": "stdout"
        }
      ]
    },
    {
      "cell_type": "markdown",
      "metadata": {
        "colab_type": "text",
        "id": "-gWNr_ZWINWw"
      },
      "source": [
        "# RNN\n",
        "The network contains a 3 RNN layers of hidden size 101 and a dense layer with softmax activation.Learning rate chosen is  $1*10^{-3}$  and RMSprop is chosen as the optimizer. The model is trained for 500 epochs and tested on 3000 samples. The loss and accuracy is averaged over 10 iteration."
      ]
    },
    {
      "cell_type": "code",
      "metadata": {
        "colab_type": "code",
        "id": "0erEOIWUINXA",
        "colab": {}
      },
      "source": [
        "rnn_miss_prediction=0\n",
        "batch_size=128"
      ],
      "execution_count": 0,
      "outputs": []
    },
    {
      "cell_type": "code",
      "metadata": {
        "colab_type": "code",
        "id": "_4Mfmfr9INXM",
        "colab": {}
      },
      "source": [
        "class RNN_Net(nn.Module):\n",
        "  def __init__(self):\n",
        "    super().__init__()\n",
        "    self.rnn1 = nn.RNN(input_size=101,hidden_size=101,num_layers=3,batch_first=True)\n",
        "    self.d1 = nn.Linear(101,101)\n",
        "    self.a1 = nn.Softmax(dim=1)\n",
        "    \n",
        "  def forward(self, x):\n",
        "    x,_ = self.rnn1(x)\n",
        "    # print(x.shape,x[-1].shape)\n",
        "    x=self.d1(x[:,-1])\n",
        "    # print(x.shape)\n",
        "    # print(x.shape)\n",
        "    x=self.a1(x)\n",
        "    return x"
      ],
      "execution_count": 0,
      "outputs": []
    },
    {
      "cell_type": "code",
      "metadata": {
        "colab_type": "code",
        "outputId": "602d40fc-12c5-4bd9-be9a-956b32585a06",
        "id": "hlQva9v7INXU",
        "colab": {
          "base_uri": "https://localhost:8080/",
          "height": 102
        }
      },
      "source": [
        "mse = nn.MSELoss(reduction=\"mean\")\n",
        "cce=nn.CrossEntropyLoss()\n",
        "\n",
        "rnn_model = RNN_Net()\n",
        "print(rnn_model)"
      ],
      "execution_count": 0,
      "outputs": [
        {
          "output_type": "stream",
          "text": [
            "RNN_Net(\n",
            "  (rnn1): RNN(101, 101, num_layers=3, batch_first=True)\n",
            "  (d1): Linear(in_features=101, out_features=101, bias=True)\n",
            "  (a1): Softmax(dim=1)\n",
            ")\n"
          ],
          "name": "stdout"
        }
      ]
    },
    {
      "cell_type": "code",
      "metadata": {
        "colab_type": "code",
        "outputId": "f88d57af-540c-49ed-981b-56ffa180795c",
        "id": "Dkks1CeFINXZ",
        "colab": {
          "base_uri": "https://localhost:8080/",
          "height": 697
        }
      },
      "source": [
        "epochs = 100\n",
        "rnn_loss_hist=np.zeros((10,epochs))\n",
        "for trial in range(10):\n",
        "  print(\"Trial :\",trial)\n",
        "  rnn_model = RNN_Net()\n",
        "  rnn_optimizer = torch.optim.RMSprop(rnn_model.parameters(), lr=1e-3)\n",
        "  \n",
        "  rnn_model.train()\n",
        "  for i in range(epochs):\n",
        "    # data_set=gen_seq()\n",
        "    # seq =data_set[1]\n",
        "    seq,label=gen_data(batch_size)\n",
        "    label=torch.tensor(one_hot(label)).float().reshape(-1,101)\n",
        "    rnn_optimizer.zero_grad()\n",
        "    # seq= torch.from_numpy(seq).float().reshape(-1,101,101)\n",
        "    y_pred = rnn_model(seq)\n",
        "    a=y_pred.detach().numpy().reshape(1,-1)[0].reshape(-1,1)\n",
        "    ind=np.argmax(a)\n",
        "    # print(a[99],a[100],data_set[3],ind)\n",
        "    loss = mse(y_pred,label)\n",
        "    loss.backward()\n",
        "    rnn_optimizer.step()\n",
        "    rnn_loss_hist[trial,i]=loss.item()\n",
        "    if i%100==0:\n",
        "      print(f'epoch: {i:3} loss: {loss.item():10.8f}')\n",
        "  print(f'epoch: {i:3} loss: {loss.item():10.8f}')\n",
        "  \n",
        "  rnn_model.eval()\n",
        "  y_pred1= rnn_model(test_x).detach().numpy()\n",
        "  ind=np.argmax(y_pred1,axis=1)\n",
        "  arr = ind-test_y\n",
        "  a=np.where(arr != 0)\n",
        "  rnn_miss_prediction+=a[0].shape[0]\n",
        "  print(a[0].shape[0])"
      ],
      "execution_count": 0,
      "outputs": [
        {
          "output_type": "stream",
          "text": [
            "Trial : 0\n",
            "epoch:   0 loss: 0.00980634\n",
            "epoch:  99 loss: 0.00009734\n",
            "0\n",
            "Trial : 1\n",
            "epoch:   0 loss: 0.00980126\n",
            "epoch:  99 loss: 0.00000595\n",
            "0\n",
            "Trial : 2\n",
            "epoch:   0 loss: 0.00980179\n",
            "epoch:  99 loss: 0.01000039\n",
            "3000\n",
            "Trial : 3\n",
            "epoch:   0 loss: 0.00979950\n",
            "epoch:  99 loss: 0.00000595\n",
            "0\n",
            "Trial : 4\n",
            "epoch:   0 loss: 0.00982787\n",
            "epoch:  99 loss: 0.01000105\n",
            "3000\n",
            "Trial : 5\n",
            "epoch:   0 loss: 0.00978829\n",
            "epoch:  99 loss: 0.00001498\n",
            "0\n",
            "Trial : 6\n",
            "epoch:   0 loss: 0.00980990\n",
            "epoch:  99 loss: 0.01000069\n",
            "3000\n",
            "Trial : 7\n",
            "epoch:   0 loss: 0.00982508\n",
            "epoch:  99 loss: 0.00000630\n",
            "0\n",
            "Trial : 8\n",
            "epoch:   0 loss: 0.00977938\n",
            "epoch:  99 loss: 0.00000790\n",
            "0\n",
            "Trial : 9\n",
            "epoch:   0 loss: 0.00981198\n",
            "epoch:  99 loss: 0.00000995\n",
            "0\n"
          ],
          "name": "stdout"
        }
      ]
    },
    {
      "cell_type": "markdown",
      "metadata": {
        "colab_type": "text",
        "id": "M45XK3xTINXd"
      },
      "source": [
        "## Plot of number of sequences versus error curve.\n",
        "\n"
      ]
    },
    {
      "cell_type": "code",
      "metadata": {
        "colab_type": "code",
        "outputId": "ffddb76a-61b2-4b77-ad03-4fc8ce045dcd",
        "id": "_rtV5Z1zINXd",
        "colab": {
          "base_uri": "https://localhost:8080/",
          "height": 295
        }
      },
      "source": [
        "final_rnn_loss_hist=np.average(rnn_loss_hist,axis=0)\n",
        "plt.plot(np.arange(0,batch_size*epochs,batch_size),final_rnn_loss_hist, label='loss')\n",
        "plt.title('Training_curve')\n",
        "plt.xlabel(\"Number of Sequence\")\n",
        "plt.ylabel(\"Loss\")\n",
        "plt.legend()\n",
        "plt.show()"
      ],
      "execution_count": 0,
      "outputs": [
        {
          "output_type": "display_data",
          "data": {
            "image/png": "[encoded data removed]",
            "text/plain": [
              "<Figure size 432x288 with 1 Axes>"
            ]
          },
          "metadata": {
            "tags": [],
            "needs_background": "light"
          }
        }
      ]
    },
    {
      "cell_type": "markdown",
      "metadata": {
        "colab_type": "text",
        "id": "fQXshgQtINXh"
      },
      "source": [
        "## Average number of wrong predictions on the test set in 10 different trials"
      ]
    },
    {
      "cell_type": "code",
      "metadata": {
        "colab_type": "code",
        "outputId": "0454e173-300a-452c-b634-1eefa430a6a3",
        "id": "wj5RR946INXh",
        "colab": {
          "base_uri": "https://localhost:8080/",
          "height": 34
        }
      },
      "source": [
        "print(\"Average wrong prediction\",rnn_miss_prediction/10)"
      ],
      "execution_count": 0,
      "outputs": [
        {
          "output_type": "stream",
          "text": [
            "Average wrong prediction 900.0\n"
          ],
          "name": "stdout"
        }
      ]
    },
    {
      "cell_type": "markdown",
      "metadata": {
        "colab_type": "text",
        "id": "uJU6VRjYINXl"
      },
      "source": [
        "### Observation\n",
        "- We observe that Lstm effectively predict the next character of the sequence perfectly without miss. While RNN also able to learn the correct label but its accuracy is less as compared to LSTM. We also see that at the end of number of sequence vs loss curve is smoother for LSTM as compared to RNN. "
      ]
    }
  ]
}